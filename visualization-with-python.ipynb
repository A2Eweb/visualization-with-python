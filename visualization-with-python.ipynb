{
 "cells": [
  {
   "cell_type": "markdown",
   "metadata": {},
   "source": [
    "# Visualization with Python"
   ]
  },
  {
   "cell_type": "markdown",
   "metadata": {},
   "source": [
    "## Theory"
   ]
  },
  {
   "cell_type": "markdown",
   "metadata": {},
   "source": [
    "### Introduction\n",
    "\n",
    "Visualization is meant to convey information.\n",
    "\n",
    "> The power of a graph is its ability to enable one to take in the quantitative information, organize it, and see patterns and structure not readily revealed by other means of studying the data.\n",
    "\n",
    "\\- Cleveland and McGill, 1984\n",
    "\n",
    "Certain techniques make that information easier to interpret and understand. In their 1984 paper titled, \"[Graphical Perception: Theory, Experimentation, and Application to the Development of Graphical Methods](https://www.cs.ubc.ca/~tmm/courses/cpsc533c-04-spr/readings/cleveland.pdf),\" Cleveland and McGill identify 10 elementary perceptual tasks that are used to \"extract quantitative information from graphs.\" Their premise is:\n",
    "\n",
    "> A graphical form that involves elementary perceptual tasks that lead to more accurate judgments than another graphical form (with the same quantitative information) will result in better organization and increase the chances of a correct perception of patterns and behavior.\n",
    "\n",
    "Whereas graph design had, up to that point, been \"largely unscientific,\" Cleveland and McGill took a systematic approach in analyzing human graphical perception through experimentation. Their researched helped identify the most and least accurate elementary percentual tasks, ordered below:\n",
    "\n",
    "1. Position along a common scale\n",
    "2. Position along non-aligned scales\n",
    "3. Length, direction, angle\n",
    "4. Area\n",
    "5. Volume, curvature\n",
    "6. Shading, color saturation\n",
    "\n",
    "In 2010, [Heer and Bostock](http://vis.stanford.edu/files/2010-MTurk-CHI.pdf) confirmed these results using Amazon's Mechanical Turk.\n",
    "\n",
    "Let's take a look at a few examples. Because we're only interested in relative sizes, we don't include a legend with size information or reference points."
   ]
  },
  {
   "cell_type": "markdown",
   "metadata": {},
   "source": [
    "<img src=\"images/circles.png\">"
   ]
  },
  {
   "cell_type": "markdown",
   "metadata": {},
   "source": [
    "For circles of distinctly different sizes, the comparison is simple. For example, \"A\" is smaller than \"B.\" However, for circles, such as \"L\" and \"M,\" that are almost the same size, it's difficult to tell which is smaller. Area, according to Cleveland and McGill's research, is less accurate than, say, length, which we consider next."
   ]
  },
  {
   "cell_type": "markdown",
   "metadata": {},
   "source": [
    "<img src=\"images/bars.png\">"
   ]
  },
  {
   "cell_type": "markdown",
   "metadata": {},
   "source": [
    "Focusing on \"L\" and \"M,\" it is clear to see which is larger. You might be wondering whether scale makes a difference&mdash;that is, if the small circle sizes make it difficult to compare&mdash;it doesn't.\n",
    "\n",
    "Next, we consider a case where we want to plot two series. For this example, let's suppose we're working with student English and math test scores. Here, we'll want to use bars, which we arbitrarily label Z-L. The question is, which bars should we use? This is a case where the answer depends on what we're trying to communicate. If we're interested in showing total scores, we could use a stacked bar chart."
   ]
  },
  {
   "cell_type": "markdown",
   "metadata": {},
   "source": [
    "<img src=\"images/two-series-0.png\">"
   ]
  },
  {
   "cell_type": "markdown",
   "metadata": {},
   "source": [
    "We can tell that \"Y\" and \"L\" had the highest cumulative scores. What if we want to know which students scored highest on the math exam? Because the math portions of each bar are on \"non-aligned scales,\" as Cleveland and McGill call it, it's difficult to tell. One solution is to plot these on opposite sides of the x-axis."
   ]
  },
  {
   "cell_type": "markdown",
   "metadata": {},
   "source": [
    "<img src=\"images/two-series-1.png\">"
   ]
  },
  {
   "cell_type": "markdown",
   "metadata": {},
   "source": [
    "Now, it's easier to see that \"R\" scored quite well on the math exam. The tradeoff with this layout is that it's difficult to compare cumulative scores. Comparing \"Z\" and \"O,\" for example, is a challenge. Again, it depends on what the message is.\n",
    "\n",
    "These findings are a *guide* for what works when the goal is to make accurate judgments. Sometimes, however, the goal might not be to allow for precise comparisons but, rather, to facilitate the perception of larger patterns. This is usually the case with choropleth maps."
   ]
  },
  {
   "cell_type": "markdown",
   "metadata": {},
   "source": [
    "### Form and Function\n",
    "\n",
    "> A good graphic realizes two basic goals: It **presents** information, and it allows users to **explore** that information.\n",
    "\n",
    "\\- Alberto Cairo\n",
    "\n",
    "> A data visualization should only be beautiful when beauty can promote understanding in some way without undermining it in another. Is beauty sometimes useful? Certainly. Is beauty always useful? Certainly not.\n",
    "\n",
    "\\- Stephen Few\n",
    "\n",
    "> Good displays of data help to reveal knowledge relevant to understanding mechanism, process and dynamics, cause and effect.\n",
    "\n",
    "\\- Edward Tufte\n",
    "\n",
    "A figure is ineffective if it \"wastes too much real estate (and the designer's time) on things that don't help readers understand [it].\" - Alberto Cairo\n",
    "\n",
    "> The important criterion for a graph is not simply how fast we can see a result; rather it is whether through the use of the graph we can see something that would have been harder to see otherwise or that could not have been seen at all.\n",
    "\n",
    "\\- William Cleveland\n",
    "\n",
    "> [A]lways take advantage of the space you have available to seek depth within reasonable limits. After that, *and only after that*, worry about how to make the presentation prettier.\n",
    "\n",
    "\\- Alberto Cairo\n",
    "\n",
    "Ultimately, identify your audience and their needs and interests. The same data should be visualized differently for a scientific publication versus a magazine."
   ]
  },
  {
   "cell_type": "markdown",
   "metadata": {},
   "source": [
    "## Practice"
   ]
  },
  {
   "cell_type": "markdown",
   "metadata": {},
   "source": [
    "Now, we'll start learning *how* to create visualizations in Python using `Matplotlib` and `Seaborn`."
   ]
  },
  {
   "cell_type": "code",
   "execution_count": null,
   "metadata": {
    "collapsed": true
   },
   "outputs": [],
   "source": [
    "%matplotlib inline\n",
    "\n",
    "#from __future__ import division, print_function\n",
    "\n",
    "import math\n",
    "import random\n",
    "\n",
    "import numpy as np\n",
    "import pandas as pd\n",
    "import matplotlib as mpl\n",
    "import matplotlib.pyplot as plt"
   ]
  },
  {
   "cell_type": "markdown",
   "metadata": {},
   "source": [
    "### Matplotlib"
   ]
  },
  {
   "cell_type": "markdown",
   "metadata": {},
   "source": [
    "We'll use the tab-delimited Gapminder data, which was compiled by Jennifer Bryan. For more information, see the [gapminder](https://github.com/jennybc/gapminder) repository."
   ]
  },
  {
   "cell_type": "code",
   "execution_count": null,
   "metadata": {
    "collapsed": false
   },
   "outputs": [],
   "source": [
    "gm = pd.read_csv('data/gapminder.tsv', sep='\\t')"
   ]
  },
  {
   "cell_type": "code",
   "execution_count": null,
   "metadata": {
    "collapsed": false
   },
   "outputs": [],
   "source": [
    "gm.head()"
   ]
  },
  {
   "cell_type": "markdown",
   "metadata": {},
   "source": [
    "Let's also create a variable called `decade` since it might be interesting to create some plots at that level."
   ]
  },
  {
   "cell_type": "code",
   "execution_count": null,
   "metadata": {
    "collapsed": false
   },
   "outputs": [],
   "source": [
    "gm['decade'] = gm['year'].apply(lambda x: int(x / 10) * 10)"
   ]
  },
  {
   "cell_type": "markdown",
   "metadata": {},
   "source": [
    "Let's say we're interested in Portugal's GDP per capita over time. First, create a `DataFrame` for the country."
   ]
  },
  {
   "cell_type": "code",
   "execution_count": null,
   "metadata": {
    "collapsed": true
   },
   "outputs": [],
   "source": [
    "portugal = gm[gm['country'] == 'Portugal']"
   ]
  },
  {
   "cell_type": "markdown",
   "metadata": {},
   "source": [
    "Next, call the `plot()` function, which is the default line graph. The first argument corresponds to the $x$-axis and the second to the $y$-axis. Note that $x$ and $y$ must have the same dimensions&mdash;that is, be of the same length."
   ]
  },
  {
   "cell_type": "code",
   "execution_count": null,
   "metadata": {
    "collapsed": false
   },
   "outputs": [],
   "source": [
    "plt.plot(portugal.year, portugal.gdpPercap)"
   ]
  },
  {
   "cell_type": "markdown",
   "metadata": {},
   "source": [
    "Per capita GDP has been increasing over time in Portugal. Cool!\n",
    "\n",
    "(What you see above are `Matplotlib` defaults. For now, we'll continue with those as the first portion of this workshop is geared toward getting yourself familiar with the API&mdash;how to actually create the plots you're interested in. Then, we'll cover how to customize plot styles.)\n",
    "\n",
    "Back to the plot. For data that has a time component, as the *yearly* GDP per capita does, a line is often an appropiate choice.\n",
    "\n",
    "Next, it might be interesting to get a sense of how many countries per continent we have data for. Let's create a country `DataFrame` that includes unique combinations of country and continent."
   ]
  },
  {
   "cell_type": "code",
   "execution_count": null,
   "metadata": {
    "collapsed": false
   },
   "outputs": [],
   "source": [
    "countries = gm[['country', 'continent']]\n",
    "countries = countries.drop_duplicates()"
   ]
  },
  {
   "cell_type": "markdown",
   "metadata": {},
   "source": [
    "To get the counts, we can use the `.groupby()` method and create a `DataFrame` called \"country_counts.\""
   ]
  },
  {
   "cell_type": "code",
   "execution_count": null,
   "metadata": {
    "collapsed": false
   },
   "outputs": [],
   "source": [
    "country_counts = pd.DataFrame({'n_countries' : countries.groupby('continent')['country'].count()}).reset_index()"
   ]
  },
  {
   "cell_type": "code",
   "execution_count": null,
   "metadata": {
    "collapsed": false
   },
   "outputs": [],
   "source": [
    "country_counts"
   ]
  },
  {
   "cell_type": "markdown",
   "metadata": {},
   "source": [
    "For this data, because we're looking at distinct categories, let's create a bar plot.\n",
    "\n",
    "By default, `Matplotlib` left-aligns bars. Let's fix that by using the `align` parameter. Let's also label the $x$-ticks so we know the continents the bars correspond to. While we're add it, we'll also add a title."
   ]
  },
  {
   "cell_type": "code",
   "execution_count": null,
   "metadata": {
    "collapsed": false
   },
   "outputs": [],
   "source": [
    "plt.bar(range(len(country_counts)), country_counts.n_countries, align='center')\n",
    "\n",
    "plt.title('Number of Countries per Continent')\n",
    "plt.xticks(country_counts['continent'].index, country_counts['continent']);"
   ]
  },
  {
   "cell_type": "markdown",
   "metadata": {},
   "source": [
    "**Protip**: Use a semicolon (`;`) at the end of a line to suppress unwanted output.\n",
    "\n",
    "Let's describe what's happening. For the title, simply add the text you'd like. The `.xticks()` method, for setting the $x$-axis tick labels, takes two arguments. The first is the *position* for the label and the second is the label itself. The arguments are container-like objects, such as `list`s or `NumPy` arrays. The lengths of the arguments *do not* have to be of the same length. However, this will cause certain labels you probably want or need to not be drawn onto the figure.\n",
    "\n",
    "As you can see, we can call the `plt` multiple times and it will work on and modify the current figure. Most of the time, the order doesn't matter.\n",
    "\n",
    "Next, let's start exploring the relationship between variables. An interesting one might be the relationship between per capita GDP and life expectancy. It's normally a good idea to transform GDP values. This is typically done by taking the log of the values."
   ]
  },
  {
   "cell_type": "code",
   "execution_count": null,
   "metadata": {
    "collapsed": false
   },
   "outputs": [],
   "source": [
    "plt.scatter(np.log10(gm['gdpPercap']), gm['lifeExp'])"
   ]
  },
  {
   "cell_type": "markdown",
   "metadata": {},
   "source": [
    "Like with `plot()`, the first argument in `scatter()` corresponds to the $x$-axis and the second to the $y$-axis.\n",
    "\n",
    "This plot doesn't look _too_ great, though, especially since there are so many points and they overlap. We can do several things. Let's change the shape with the `marker` parameter, the fill color with the `facecolor` parameter, the opacity with the `alpha` parameter, and the border color of each marker with the `edgecolor` parameter."
   ]
  },
  {
   "cell_type": "code",
   "execution_count": null,
   "metadata": {
    "collapsed": false
   },
   "outputs": [],
   "source": [
    "plt.scatter(np.log10(gm['gdpPercap']),\n",
    "            gm['lifeExp'],\n",
    "            marker='s',\n",
    "            facecolor='SteelBlue',\n",
    "            alpha=0.25,\n",
    "            edgecolor='None')"
   ]
  },
  {
   "cell_type": "markdown",
   "metadata": {},
   "source": [
    "There is a list of the possible values that `marker` can take. You can find more information on those [here](http://matplotlib.org/api/markers_api.html#markers). The `facecolor` parameter can take:\n",
    "\n",
    "* single letters representing built-in colors (e.g., `b` for blue)\n",
    "* html hex strings\n",
    "* html color names\n",
    "* RGB tuples (with each element between 0 and 1)\n",
    "* string encoded floating point values between 0 and 1 (for gray shades)\n",
    "\n",
    "This is the same for `edgecolor`. For *no* color, use `'None'`. For more information on colors in `Matplotlib` see [the documentation](http://matplotlib.org/api/colors_api.html#colors).\n",
    "\n",
    "Finally, the `alpha` parameter specifies the opacity of *both* the marker face and edge colors. It can take values between 0 and 1, where a value of zero will make the color completely transparent and a value of one will make it solid.\n",
    "\n",
    "Perhaps we like the the plot above, but are interested in average by continent and decade. For this, we'll first use `pandas`'s `.groupby()` method to create a new `DataFrame`. Then, we'll loop through each of the decades and plot the corresponding values. We also need to decide what colors to use for each decade. Before we do that, let's figure out how many decades we're dealing with."
   ]
  },
  {
   "cell_type": "code",
   "execution_count": null,
   "metadata": {
    "collapsed": false
   },
   "outputs": [],
   "source": [
    "gm.decade.unique()"
   ]
  },
  {
   "cell_type": "markdown",
   "metadata": {},
   "source": [
    "Great! We have six decades worth of data, which means we'll need six colors. A great place to find information on color palettes is [ColorBrewer](http://colorbrewer2.org/). Matt Davis has created a great Python package called [Palettable](https://jiffyclub.github.io/palettable/) that gives you access to the ColorBrewer, Cubehelix, Tableau, and Wes Anderson palettes.\n",
    "\n",
    "For our purposes, let's use a sequential palette from ColorBrewer. What makes this approach tedius, and the reason Palettable is recommended, is that you have to copy the hex codes one at a time."
   ]
  },
  {
   "cell_type": "code",
   "execution_count": null,
   "metadata": {
    "collapsed": true
   },
   "outputs": [],
   "source": [
    "hexsix = ['#ffffcc', '#d9f0a3', '#addd8e', '#78c679', '#31a354', '#006837']"
   ]
  },
  {
   "cell_type": "markdown",
   "metadata": {},
   "source": [
    "Next, we create the DataFrame."
   ]
  },
  {
   "cell_type": "code",
   "execution_count": null,
   "metadata": {
    "collapsed": true
   },
   "outputs": [],
   "source": [
    "gm_cd = gm.groupby(['continent', 'decade'], as_index=False)['gdpPercap', 'lifeExp'].mean()"
   ]
  },
  {
   "cell_type": "markdown",
   "metadata": {},
   "source": [
    "Let's plot our values using a loop."
   ]
  },
  {
   "cell_type": "code",
   "execution_count": null,
   "metadata": {
    "collapsed": false
   },
   "outputs": [],
   "source": [
    "plt.figure(figsize=(10, 8))\n",
    "\n",
    "for i, decade in enumerate(np.sort(gm_cd.decade.unique())):\n",
    "    tdf = gm_cd[gm_cd['decade'] == decade]\n",
    "    plt.scatter(np.log10(tdf['gdpPercap']),\n",
    "                tdf['lifeExp'],\n",
    "                s=100,\n",
    "                facecolor=hexsix[i],\n",
    "                alpha=1,\n",
    "                edgecolor='DimGray',\n",
    "                label=decade)\n",
    "\n",
    "plt.title('Average Life Expectancy and GDP Per Capita\\nby Continent and Decade', fontsize=18)\n",
    "plt.ylabel('Average Life Expectancy', fontsize=16)\n",
    "plt.xlabel('$Log_{10}$ GDP Per Capita', fontsize=16)\n",
    "plt.legend(loc='upper left', ncol=2, scatterpoints=1)"
   ]
  },
  {
   "cell_type": "markdown",
   "metadata": {},
   "source": [
    "We've introduced several new options with this plot.\n",
    "\n",
    "First, we're able to control the figure size with `plt.figure(figsize=)`. `figsize` takes a tuple of width and height, in inches. (Note that figure sizes change with changes to DPI.)\n",
    "\n",
    "For the plot itself, `s` specifies the marker size and `label` specifies the label we'll associate with that data for the legend.\n",
    "\n",
    "We've seen the title before, but we're now specifying what the font size should be, in points. The `.ylabel()` and `.xlabel()` methods set the respective axis labels. You'll notice that they even accept LaTeX.\n",
    "\n",
    "`plt.legend()` is also new. Here, we specify its positioning, layout, and number of markers (the default is three)."
   ]
  },
  {
   "cell_type": "markdown",
   "metadata": {
    "collapsed": true
   },
   "source": [
    "### Customization"
   ]
  },
  {
   "cell_type": "markdown",
   "metadata": {},
   "source": [
    "The `Matplotlib` defaults aren't the best. (Changes are coming in [Matplotlib 2.0](http://matplotlib.org/style_changes.html), though!) We can, however, customize almost any property using the `matplotlibrc` configuration file. `Matplotlib` properties are called \"rc settings\" or \"rc parameters.\"\n",
    "\n",
    "This is typically found in the `.../site-packages/matplotlib/mpl-data` directory. Here is an example of a full path: `/usr/local/lib/python2.7/site-packages/matplotlib/mpl-data`. This will depend on *where* your Python is installed.\n",
    "\n",
    "Instead of modifying `matplotlibrc`, we'll change the default rc settings within Python. \"The rc settings are stored in a dictionary-like variable called `matplotlib.rcParams`.\" Because we imported `Matplotlib` using `import matplotlib as mpl`, we'll use `mpl.rcParams`.\n",
    "\n",
    "For more information on customizing `Matplotlib`, see the [documentation](http://matplotlib.org/users/customizing.html).\n",
    "\n",
    "Below, you'll see a list of some rc parameters we're going to modify. This is good for the current session only. It *does not* modify your `matplotlibrc` file. To get a complete list of all the possible parameters, use `mpl.rcParams`. We are using Cameron Davidson-Pilon's [Bayesian Methods for Hackers](https://github.com/CamDavidsonPilon/Probabilistic-Programming-and-Bayesian-Methods-for-Hackers/blob/master/styles/matplotlibrc#L240) colors."
   ]
  },
  {
   "cell_type": "code",
   "execution_count": null,
   "metadata": {
    "collapsed": false
   },
   "outputs": [],
   "source": [
    "params = {'figure.facecolor' : 'white',\n",
    "          'axes.facecolor' : 'white',\n",
    "          \n",
    "          'axes.titlesize' : 'x-large',\n",
    "          'axes.axisbelow' : True,\n",
    "          \n",
    "          'axes.edgecolor' : 'DimGray',\n",
    "          'axes.linewidth' : 0.5,\n",
    "          \n",
    "          'axes.labelsize' : 'large',\n",
    "          'axes.labelcolor' : '#4A4A4A',\n",
    "          \n",
    "          'axes.grid' : True,\n",
    "          'grid.linestyle' : ':',\n",
    "          'grid.color' : 'DimGray',\n",
    "          'grid.alpha' : 0.5,\n",
    "          \n",
    "          'axes.color_cycle' : ['#348ABD',\n",
    "                                '#A60628',\n",
    "                                '#7A68A6',\n",
    "                                '#467821',\n",
    "                                '#D55E00',\n",
    "                                '#CC79A7',\n",
    "                                '#56B4E9',\n",
    "                                '#009E73',\n",
    "                                '#F0E442',\n",
    "                                '#0072B2'],\n",
    "          \n",
    "          'xtick.color' : '#4A4A4A',\n",
    "          'xtick.major.size' : 0,\n",
    "          'xtick.minor.size' : 0,\n",
    "          'xtick.labelsize' : 'medium',\n",
    "          \n",
    "          'ytick.color' : '#4A4A4A',\n",
    "          'ytick.major.size' : 0,\n",
    "          'ytick.minor.size' : 0,\n",
    "          'ytick.labelsize' : 'medium',\n",
    "          \n",
    "          'text.color' : '#4A4A4A',\n",
    "          \n",
    "          'legend.fancybox' : False,\n",
    "          'legend.frameon' : False,\n",
    "          'legend.fontsize' : 'large'}\n",
    "\n",
    "for (k, v) in params.items(): # .iteritems() in Python 2.7\n",
    "    plt.rcParams[k] = v"
   ]
  },
  {
   "cell_type": "markdown",
   "metadata": {},
   "source": [
    "Let's see what changed! We'll plot the average yearly per capita GDP for each continent."
   ]
  },
  {
   "cell_type": "code",
   "execution_count": null,
   "metadata": {
    "collapsed": true
   },
   "outputs": [],
   "source": [
    "continent_gdp = gm.groupby(['continent', 'year'], as_index=False)['gdpPercap'].mean()\n",
    "countries = np.sort(continent_gdp.continent.unique())"
   ]
  },
  {
   "cell_type": "code",
   "execution_count": null,
   "metadata": {
    "collapsed": false
   },
   "outputs": [],
   "source": [
    "plt.figure(figsize=(10, 8))\n",
    "\n",
    "for c in countries:\n",
    "    tdf = continent_gdp[continent_gdp['continent'] == c]\n",
    "    plt.plot(tdf['year'], tdf['gdpPercap'], alpha=0.75, label=c)\n",
    "\n",
    "plt.title('Continent-Level Average GDP Per Capita, by Year')\n",
    "plt.xlabel('Year')\n",
    "plt.ylabel('Average GDP Per Capita')\n",
    "\n",
    "plt.gca().get_yaxis().set_major_formatter(\n",
    "    mpl.ticker.FuncFormatter(lambda y, p: format(int(y), ','))\n",
    ")\n",
    "\n",
    "plt.legend(loc='upper left')\n",
    "\n",
    "lgnd = plt.gca().get_legend()\n",
    "line_w = lgnd.get_lines()\n",
    "plt.setp(line_w, linewidth=2);"
   ]
  },
  {
   "cell_type": "markdown",
   "metadata": {},
   "source": [
    "Something new is the `.gca()` method. This gets the current axis. In this case, we're formatting the $y$-tick labels to include commas. The last code block above modifies the line width in the legend.\n",
    "\n",
    "It might be interesting to look at the average per capita GDP for a given year. For Asia, 1972 has a potentially interesting increase."
   ]
  },
  {
   "cell_type": "code",
   "execution_count": null,
   "metadata": {
    "collapsed": true
   },
   "outputs": [],
   "source": [
    "gm1972 = gm[gm['year'] == 1972]"
   ]
  },
  {
   "cell_type": "markdown",
   "metadata": {},
   "source": [
    "We'll want to look at continent-level data. For this, let's put the data into a list-like container."
   ]
  },
  {
   "cell_type": "code",
   "execution_count": null,
   "metadata": {
    "collapsed": false
   },
   "outputs": [],
   "source": [
    "continent_gdp_1972 = []\n",
    "\n",
    "continents = np.sort(gm1972.continent.unique())\n",
    "for c in continents:\n",
    "    continent_gdp_1972.append(gm1972[gm1972['continent'] == c]['gdpPercap'].values)"
   ]
  },
  {
   "cell_type": "code",
   "execution_count": null,
   "metadata": {
    "collapsed": false
   },
   "outputs": [],
   "source": [
    "plt.boxplot(continent_gdp_1972);"
   ]
  },
  {
   "cell_type": "markdown",
   "metadata": {},
   "source": [
    "Let's remove that outlier. We'll also update the plot styling."
   ]
  },
  {
   "cell_type": "code",
   "execution_count": null,
   "metadata": {
    "collapsed": false
   },
   "outputs": [],
   "source": [
    "continent_gdp_1972[2] = continent_gdp_1972[2][continent_gdp_1972[2] < 40000]"
   ]
  },
  {
   "cell_type": "code",
   "execution_count": null,
   "metadata": {
    "collapsed": false
   },
   "outputs": [],
   "source": [
    "plt.figure(figsize=(10, 8))\n",
    "\n",
    "color = 'DimGray'\n",
    "flierprops = dict(marker='o', markersize=5, markerfacecolor=color,\n",
    "                  markeredgecolor=color, alpha=0.50, linestyle='none')\n",
    "capprops = dict(color=color)\n",
    "whiskerprops = dict(color=color, linestyle='-')\n",
    "boxprops = dict(color=color)\n",
    "\n",
    "plt.boxplot(continent_gdp_1972, widths=0.25,\n",
    "            flierprops=flierprops,\n",
    "            capprops=capprops,\n",
    "            whiskerprops=whiskerprops,\n",
    "            boxprops=boxprops);"
   ]
  },
  {
   "cell_type": "markdown",
   "metadata": {},
   "source": [
    "That's a lot of customization. For boxplots, there's an easier way&mdash;`Seaborn`.\n",
    "\n",
    "Before we switch over to `Matplotlib`, it's important to note that it comes with several style sheets ([documentation](http://matplotlib.org/users/style_sheets.html)). We'll use the the Five Thirty Eight style."
   ]
  },
  {
   "cell_type": "code",
   "execution_count": null,
   "metadata": {
    "collapsed": true
   },
   "outputs": [],
   "source": [
    "plt.style.use('fivethirtyeight')"
   ]
  },
  {
   "cell_type": "code",
   "execution_count": null,
   "metadata": {
    "collapsed": false
   },
   "outputs": [],
   "source": [
    "plt.figure(figsize=(8, 6))\n",
    "\n",
    "for c in continents:\n",
    "    tdf = continent_gdp[continent_gdp['continent'] == c]\n",
    "    plt.plot(tdf['year'], tdf['gdpPercap'], alpha=0.75, label=c)\n",
    "\n",
    "plt.title('Continent-Level Average GDP Per Capita, by Year')\n",
    "plt.xlabel('Year')\n",
    "plt.ylabel('Average GDP Per Capita')\n",
    "\n",
    "plt.gca().get_yaxis().set_major_formatter(\n",
    "    mpl.ticker.FuncFormatter(lambda y, p: format(int(y), ','))\n",
    ")\n",
    "\n",
    "plt.legend(loc='upper left')"
   ]
  },
  {
   "cell_type": "markdown",
   "metadata": {},
   "source": [
    "To get a list of all available style sheets, use `plt.style.available`."
   ]
  },
  {
   "cell_type": "markdown",
   "metadata": {},
   "source": [
    "### Seaborn"
   ]
  },
  {
   "cell_type": "markdown",
   "metadata": {},
   "source": [
    "\"`Seaborn` is a Python visualization library based on `Matplotlib`. It provides a high-level interface for drawing attractive statistical graphics.\""
   ]
  },
  {
   "cell_type": "code",
   "execution_count": null,
   "metadata": {
    "collapsed": false
   },
   "outputs": [],
   "source": [
    "import seaborn as sns\n",
    "sns.set(rc={'axes.facecolor' : '#EEEEEE'})"
   ]
  },
  {
   "cell_type": "markdown",
   "metadata": {},
   "source": [
    "The `sns.set()` function allows us to change some of the `rcParams`. Here, we're changing the plot's face color.\n",
    "\n",
    "We previously looked at boxplots in `Matplotlib`. Let's now look at the distribution of continent-level life expectancies. `Seaborn` includes support for `pandas` data structures. So, we can specify column names in `x` and `y` as well as, in this case, the `DataFrame` in `data`. In addition to the boxplot, we'll plot something called a stripplot, which shows the data values. In combination, they're quite useful for understanding distributions."
   ]
  },
  {
   "cell_type": "code",
   "execution_count": null,
   "metadata": {
    "collapsed": false
   },
   "outputs": [],
   "source": [
    "plt.figure(figsize=(10, 8))\n",
    "\n",
    "sns.boxplot(x=\"continent\", y=\"lifeExp\", data=gm,\n",
    "            order=np.sort(gm.continent.unique()),\n",
    "            color='white', fliersize=0)\n",
    "sns.stripplot(x=\"continent\", y=\"lifeExp\", data=gm,\n",
    "              order=np.sort(gm.continent.unique()),\n",
    "              alpha=0.25, size=5, jitter=True,\n",
    "              color='Black', edgecolor='Black')\n",
    "\n",
    "plt.xlabel('')\n",
    "plt.ylabel('Life Expectancy')"
   ]
  },
  {
   "cell_type": "markdown",
   "metadata": {},
   "source": [
    "It's possible to create a stripplot using `Matplotlib`, but it's not as easy as it is with `Seaborn`.\n",
    "\n",
    "`Seaborn` is a package built for statistical data visualization. It includes many useful built-in plots, such as the following regression plot."
   ]
  },
  {
   "cell_type": "code",
   "execution_count": null,
   "metadata": {
    "collapsed": false
   },
   "outputs": [],
   "source": [
    "sns.regplot(x='year', y='lifeExp', data=gm, color='teal')\n",
    "\n",
    "plt.title('Distribution of Life Expectancy, by Year')\n",
    "plt.xlabel('Year')\n",
    "plt.ylabel('Life Expectancy')"
   ]
  },
  {
   "cell_type": "markdown",
   "metadata": {},
   "source": [
    "If we're interested in looking at the distribution of the life expectancy values in our data, we can use the kernel density plot."
   ]
  },
  {
   "cell_type": "code",
   "execution_count": null,
   "metadata": {
    "collapsed": false
   },
   "outputs": [],
   "source": [
    "sns.kdeplot(gm.lifeExp, shade=True)"
   ]
  },
  {
   "cell_type": "markdown",
   "metadata": {},
   "source": [
    "Another option is the `distplot()` function."
   ]
  },
  {
   "cell_type": "code",
   "execution_count": null,
   "metadata": {
    "collapsed": false
   },
   "outputs": [],
   "source": [
    "sns.distplot(gm.lifeExp, color='#7A68A6')"
   ]
  },
  {
   "cell_type": "markdown",
   "metadata": {},
   "source": [
    "We can also compare the relationship between variables and visualize their respective distributions. Let's look at log of per capita GDP and life expectancy, as we've been doing."
   ]
  },
  {
   "cell_type": "code",
   "execution_count": null,
   "metadata": {
    "collapsed": false
   },
   "outputs": [],
   "source": [
    "sns.jointplot(np.log10(gm.gdpPercap), gm.lifeExp, color=\"#348ABD\", alpha=0.5)"
   ]
  },
  {
   "cell_type": "markdown",
   "metadata": {},
   "source": [
    "It's important to note that a side effect of importing `Seaborn` is that it changes *all* plot styles. For example, if you wanted to create a line plot using `Matplotlib`, it would look like the following."
   ]
  },
  {
   "cell_type": "code",
   "execution_count": null,
   "metadata": {
    "collapsed": true
   },
   "outputs": [],
   "source": [
    "t = np.arange(0.0, 5.0, 0.1)\n",
    "t1 = np.exp(-t) * np.cos(2*np.pi*t)"
   ]
  },
  {
   "cell_type": "code",
   "execution_count": null,
   "metadata": {
    "collapsed": false
   },
   "outputs": [],
   "source": [
    "plt.plot(t1, color='#D55E00')"
   ]
  },
  {
   "cell_type": "markdown",
   "metadata": {},
   "source": [
    "## Final Thoughts"
   ]
  },
  {
   "cell_type": "markdown",
   "metadata": {},
   "source": [
    "Visualization is meant to convey information. There are many visualization libraries in Python and you now have experience in using two popular ones.\n",
    "\n",
    "Options exist for creating *interactive* visualizations, too. For this, see [Plotly](https://plot.ly/python/), [Bokeh](http://bokeh.pydata.org/en/latest/), or [Toyplot](http://toyplot.readthedocs.org/en/stable/tutorial.html#getting-started)."
   ]
  }
 ],
 "metadata": {
  "kernelspec": {
   "display_name": "Python 3",
   "language": "python",
   "name": "python3"
  },
  "language_info": {
   "codemirror_mode": {
    "name": "ipython",
    "version": 3
   },
   "file_extension": ".py",
   "mimetype": "text/x-python",
   "name": "python",
   "nbconvert_exporter": "python",
   "pygments_lexer": "ipython3",
   "version": "3.4.2"
  }
 },
 "nbformat": 4,
 "nbformat_minor": 0
}
